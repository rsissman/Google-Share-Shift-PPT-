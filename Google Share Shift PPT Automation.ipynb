{
 "cells": [
  {
   "cell_type": "code",
   "execution_count": 1,
   "metadata": {},
   "outputs": [],
   "source": [
    "import os\n",
    "import pandas as pd\n",
    "import numpy as np\n",
    "import openpyxl\n",
    "import xlsxwriter\n",
    "\n",
    "from pptx import Presentation\n",
    "from pptx.util import Inches, Pt\n",
    "from pptx.chart.data import CategoryChartData, ChartData, XyChartData\n",
    "from pptx.enum.chart import XL_CHART_TYPE, XL_LABEL_POSITION, XL_TICK_MARK\n",
    "from pptx.dml.color import RGBColor\n",
    "from pptx.enum.text import PP_ALIGN\n",
    "from pandas import DataFrame"
   ]
  },
  {
   "cell_type": "code",
   "execution_count": 2,
   "metadata": {},
   "outputs": [],
   "source": [
    "#import calc template or raw data, create list of reach data and pass through variable  "
   ]
  },
  {
   "cell_type": "markdown",
   "metadata": {},
   "source": [
    "# Input Required: Select Data Input File and PPT Template"
   ]
  },
  {
   "cell_type": "code",
   "execution_count": 3,
   "metadata": {},
   "outputs": [],
   "source": [
    "data_location = (r\"C:\\Users\\resissma2001\\Documents\\CI\\ShareShift\\Facebook\\2021\\Quickbooks\\Quickbooks Facebook Shareshift Calculator.xlsx\")\n",
    "prs = Presentation(r\"C:\\Users\\resissma2001\\Documents\\CI\\Automation PPT Tools\\Share Shift\\Google Shareshift - Template (1).pptx\")"
   ]
  },
  {
   "cell_type": "markdown",
   "metadata": {},
   "source": [
    "# Functions"
   ]
  },
  {
   "cell_type": "code",
   "execution_count": 4,
   "metadata": {},
   "outputs": [],
   "source": [
    "def read_files(sheet_name):\n",
    "    \n",
    "    '''Read in excel files for specific tab\n",
    "    \n",
    "    Args: name of sheet in excel\n",
    "    \n",
    "    Returns: dataframe\n",
    "    \n",
    "    '''\n",
    "    \n",
    "    df = pd.read_excel(data_location,sheet_name).reset_index(drop=True)\n",
    "    return df"
   ]
  },
  {
   "cell_type": "code",
   "execution_count": 5,
   "metadata": {},
   "outputs": [],
   "source": [
    "def replace_text(search_str, repl_str):\n",
    "    \"\"\"Takes dict of {search_str: repl_str, ... } and replaces all matches.\n",
    "    Currently not implemented for charts or graphics.\n",
    "    Search and replace text in PowerPoint while preserving formatting\"\"\"\n",
    "    for slide in prs.slides:\n",
    "        for shape in slide.shapes:\n",
    "            if shape.has_text_frame:\n",
    "                if (shape.text.find(search_str)) != -1:\n",
    "                    text_frame = shape.text_frame\n",
    "                    for paragraph in text_frame.paragraphs:\n",
    "                        for run in paragraph.runs:\n",
    "                            cur_text = run.text\n",
    "                            new_text = cur_text.replace(str(search_str), str(repl_str))\n",
    "                            run.text = new_text\n",
    "            if shape.has_table:\n",
    "                for row in shape.table.rows:\n",
    "                    for cell in row.cells:\n",
    "                        if search_str in cell.text:\n",
    "                            new_text = cell.text.replace(str(search_str), str(repl_str))\n",
    "                            cell.text = new_text\n",
    "                            cell.text_frame.paragraphs[0].alignment = PP_ALIGN.CENTER"
   ]
  },
  {
   "cell_type": "code",
   "execution_count": 6,
   "metadata": {},
   "outputs": [],
   "source": [
    "def create_footnote(slide_num):\n",
    "    footnote = slide_num.placeholders[15]\n",
    "    footnote.text = campaign_sourcing\n",
    "    return footnote"
   ]
  },
  {
   "cell_type": "markdown",
   "metadata": {},
   "source": [
    "# Input Required: Define Campaign Information (Segments, Target, Name, Dates)"
   ]
  },
  {
   "cell_type": "code",
   "execution_count": 7,
   "metadata": {},
   "outputs": [],
   "source": [
    "#Target demo: Write it out as you would like it to appear in the deck, e.g. P18-99 becomes P18+. \n",
    "#Fusion Period: Use the reference period from NMI and put in the month and the year\n",
    "#TV Data Source: Nielsen Ad Intel or Google\n",
    "target_demo = 'Persons 18-34'\n",
    "campaign_name = 'Quickbooks'\n",
    "current_month = 'August 2021'\n",
    "campaign_dates = '1/1/2021 - 4/20/2021'\n",
    "advertiser= 'Quickbooks'\n",
    "frequency_cap= 'No Capping'\n",
    "fusion_period='March 2021'\n",
    "tv_data_source='Google'"
   ]
  },
  {
   "cell_type": "code",
   "execution_count": 8,
   "metadata": {},
   "outputs": [],
   "source": [
    "if tv_data_source=='Google':\n",
    "    data_source='provided by Google'\n",
    "else:\n",
    "    data_source='measured by Ad Intel'"
   ]
  },
  {
   "cell_type": "code",
   "execution_count": 9,
   "metadata": {},
   "outputs": [],
   "source": [
    "prepared_for= \"Prepared for \"+ advertiser"
   ]
  },
  {
   "cell_type": "markdown",
   "metadata": {},
   "source": [
    "# Read in Data"
   ]
  },
  {
   "cell_type": "code",
   "execution_count": 10,
   "metadata": {},
   "outputs": [],
   "source": [
    "budget_allocation = read_files('Budget Allocations (Slide 2)')\n",
    "exec_summary = read_files('Exec Summary (Slide 3)')\n",
    "full_reach = pd.read_excel(data_location,'Full Reach (Slide 4)', skiprows=2)\n",
    "scenarios = read_files('Scenario Amounts (under charts)')\n",
    "reach_data = pd.read_excel(data_location,'Reach (Slide 5)', skiprows=3)\n",
    "frequency = pd.read_excel(data_location,'Freq (Slide 6)', skiprows=3) \n",
    "cost_per_reach = pd.read_excel(data_location,'Cost per Reach (Slide 7)', skiprows=3)\n",
    "cross_platform = read_files ('Cross Platform (Slide 8)')\n",
    "cost_per_reach_thousands= read_files ('Cost per Reach (000) (Slide 9)')\n",
    "summary_table_data = read_files('Summary Table (Slide 10)')\n",
    "scenario_amounts= pd.read_excel(data_location, 'Scenario Amounts (under charts)', skiprows=10)"
   ]
  },
  {
   "cell_type": "markdown",
   "metadata": {},
   "source": [
    "# Formatting Data Files"
   ]
  },
  {
   "cell_type": "code",
   "execution_count": 11,
   "metadata": {
    "scrolled": true
   },
   "outputs": [
    {
     "name": "stdout",
     "output_type": "stream",
     "text": [
      "             Unnamed: 0   Unnamed: 1   Unnamed: 2   Unnamed: 3  Unnamed: 4  \\\n",
      "4  Sum of Original Plan  4.60682e+07  4.05366e+07  5.53161e+06         NaN   \n",
      "5         Sum of Plan 1  4.60682e+07  3.37866e+07  1.22816e+07         NaN   \n",
      "6         Sum of Plan 2  4.60682e+07  2.70366e+07  1.90316e+07         NaN   \n",
      "7         Sum of Plan 3  4.60682e+07  2.02866e+07  2.57816e+07         NaN   \n",
      "\n",
      "  Unnamed: 5 Unnamed: 6 Unnamed: 7  \n",
      "4    806.705    1051.55    139.724  \n",
      "5    758.641    896.185    253.162  \n",
      "6    748.516    738.591    372.676  \n",
      "7    745.169    577.889    490.649  \n"
     ]
    }
   ],
   "source": [
    "#formatting cost efficency data\n",
    "cost_per_reach_thousands= cost_per_reach_thousands.iloc[[4,5,6,7],:]\n",
    "print(cost_per_reach_thousands)"
   ]
  },
  {
   "cell_type": "code",
   "execution_count": 12,
   "metadata": {},
   "outputs": [
    {
     "data": {
      "text/html": [
       "<div>\n",
       "<style scoped>\n",
       "    .dataframe tbody tr th:only-of-type {\n",
       "        vertical-align: middle;\n",
       "    }\n",
       "\n",
       "    .dataframe tbody tr th {\n",
       "        vertical-align: top;\n",
       "    }\n",
       "\n",
       "    .dataframe thead th {\n",
       "        text-align: right;\n",
       "    }\n",
       "</style>\n",
       "<table border=\"1\" class=\"dataframe\">\n",
       "  <thead>\n",
       "    <tr style=\"text-align: right;\">\n",
       "      <th></th>\n",
       "      <th>Unnamed: 0</th>\n",
       "      <th>Unnamed: 1</th>\n",
       "      <th>Unnamed: 2</th>\n",
       "      <th>Unnamed: 3</th>\n",
       "      <th>Unnamed: 4</th>\n",
       "      <th>Unnamed: 5</th>\n",
       "      <th>Unnamed: 6</th>\n",
       "      <th>Unnamed: 7</th>\n",
       "    </tr>\n",
       "  </thead>\n",
       "  <tbody>\n",
       "    <tr>\n",
       "      <td>5</td>\n",
       "      <td>Sum of Original Plan</td>\n",
       "      <td>24.26</td>\n",
       "      <td>25.72</td>\n",
       "      <td>29.13</td>\n",
       "      <td>NaN</td>\n",
       "      <td>24.26</td>\n",
       "      <td>25.72</td>\n",
       "      <td>29.13</td>\n",
       "    </tr>\n",
       "    <tr>\n",
       "      <td>6</td>\n",
       "      <td>Sum of Plan 1</td>\n",
       "      <td>16.91</td>\n",
       "      <td>31.89</td>\n",
       "      <td>35.3</td>\n",
       "      <td>NaN</td>\n",
       "      <td>16.91</td>\n",
       "      <td>31.89</td>\n",
       "      <td>35.3</td>\n",
       "    </tr>\n",
       "    <tr>\n",
       "      <td>7</td>\n",
       "      <td>Sum of Plan 2</td>\n",
       "      <td>14.51</td>\n",
       "      <td>34.54</td>\n",
       "      <td>36.18</td>\n",
       "      <td>NaN</td>\n",
       "      <td>14.51</td>\n",
       "      <td>34.54</td>\n",
       "      <td>36.18</td>\n",
       "    </tr>\n",
       "    <tr>\n",
       "      <td>8</td>\n",
       "      <td>Sum of Plan 3</td>\n",
       "      <td>12.85</td>\n",
       "      <td>37</td>\n",
       "      <td>35.77</td>\n",
       "      <td>NaN</td>\n",
       "      <td>12.85</td>\n",
       "      <td>37</td>\n",
       "      <td>35.77</td>\n",
       "    </tr>\n",
       "  </tbody>\n",
       "</table>\n",
       "</div>"
      ],
      "text/plain": [
       "             Unnamed: 0 Unnamed: 1 Unnamed: 2 Unnamed: 3  Unnamed: 4  \\\n",
       "5  Sum of Original Plan      24.26      25.72      29.13         NaN   \n",
       "6         Sum of Plan 1      16.91      31.89       35.3         NaN   \n",
       "7         Sum of Plan 2      14.51      34.54      36.18         NaN   \n",
       "8         Sum of Plan 3      12.85         37      35.77         NaN   \n",
       "\n",
       "  Unnamed: 5 Unnamed: 6 Unnamed: 7  \n",
       "5      24.26      25.72      29.13  \n",
       "6      16.91      31.89       35.3  \n",
       "7      14.51      34.54      36.18  \n",
       "8      12.85         37      35.77  "
      ]
     },
     "execution_count": 12,
     "metadata": {},
     "output_type": "execute_result"
    }
   ],
   "source": [
    "#Formatting the cross platform data\n",
    "cross_platform= cross_platform.iloc[[5,6,7,8],:]\n",
    "cross_platform"
   ]
  },
  {
   "cell_type": "code",
   "execution_count": 13,
   "metadata": {},
   "outputs": [
    {
     "name": "stdout",
     "output_type": "stream",
     "text": [
      "       Unnamed: 0        Dollars   Dollars (MM)  Reach %\n",
      "0   Original Plan  Original Plan  Original Plan   0.7909\n",
      "1         Shift 1      4,053,663        4.05366   0.8323\n",
      "2         Shift 2      8,107,326        8.10733   0.8442\n",
      "3         Shift 3     12,160,989         12.161   0.8508\n",
      "4         Shift 4     16,214,652        16.2147   0.8545\n",
      "5         Shift 5     20,268,316        20.2683   0.8562\n",
      "6         Shift 6     24,321,979         24.322   0.8559\n",
      "7         Shift 7     28,375,642        28.3756   0.8536\n",
      "8         Shift 8     32,429,305        32.4293   0.8482\n",
      "9         Shift 9     36,482,968         36.483   0.8355\n",
      "10       Shift 10       40536631        40.5366   0.7592\n"
     ]
    }
   ],
   "source": [
    "print(full_reach)"
   ]
  },
  {
   "cell_type": "code",
   "execution_count": 14,
   "metadata": {
    "scrolled": true
   },
   "outputs": [],
   "source": [
    "#formatting reach data\n",
    "reach_data['Unnamed: 1']=reach_data['Unnamed: 1'].div(100)\n",
    "#Keep necessary rows in cpp table\n",
    "cost_per_reach= cost_per_reach.iloc[[0,1,2,3],:]"
   ]
  },
  {
   "cell_type": "code",
   "execution_count": 15,
   "metadata": {
    "scrolled": true
   },
   "outputs": [],
   "source": [
    "summary_table_clean=summary_table_data.iloc[46:71,0:5]\n",
    "summary_table_clean = summary_table_clean.dropna(subset = [\"Metric\"]).reset_index(drop = True)"
   ]
  },
  {
   "cell_type": "code",
   "execution_count": 16,
   "metadata": {},
   "outputs": [],
   "source": [
    "campaign_sourcing = 'Source: Nielsen Media Impact, Nielsen Ad Intel, Nielsen TV/Digital Fusion data'+', '+campaign_name+', '+campaign_dates"
   ]
  },
  {
   "cell_type": "markdown",
   "metadata": {},
   "source": [
    "# Search and Replace Variables"
   ]
  },
  {
   "cell_type": "code",
   "execution_count": 17,
   "metadata": {
    "scrolled": true
   },
   "outputs": [],
   "source": [
    "# % of total budget to YT\n",
    "original_total_budget= str(round(budget_allocation.iat[11,2]*100))+'%'\n",
    "scenarioone_total_budget=str(round(budget_allocation.iat[12,3]*100))+'%'\n",
    "scenariotwo_total_budget=str(round(budget_allocation.iat[13,3]*100))+'%'\n",
    "scenariothree_total_budget=str(round(budget_allocation.iat[14,3]*100))+'%'"
   ]
  },
  {
   "cell_type": "code",
   "execution_count": 18,
   "metadata": {},
   "outputs": [
    {
     "data": {
      "text/html": [
       "<div>\n",
       "<style scoped>\n",
       "    .dataframe tbody tr th:only-of-type {\n",
       "        vertical-align: middle;\n",
       "    }\n",
       "\n",
       "    .dataframe tbody tr th {\n",
       "        vertical-align: top;\n",
       "    }\n",
       "\n",
       "    .dataframe thead th {\n",
       "        text-align: right;\n",
       "    }\n",
       "</style>\n",
       "<table border=\"1\" class=\"dataframe\">\n",
       "  <thead>\n",
       "    <tr style=\"text-align: right;\">\n",
       "      <th></th>\n",
       "      <th>Unnamed: 0</th>\n",
       "      <th>Unnamed: 1</th>\n",
       "      <th>Unnamed: 2</th>\n",
       "      <th>Unnamed: 3</th>\n",
       "    </tr>\n",
       "  </thead>\n",
       "  <tbody>\n",
       "    <tr>\n",
       "      <td>0</td>\n",
       "      <td>Metric</td>\n",
       "      <td>Budget</td>\n",
       "      <td>NaN</td>\n",
       "      <td>NaN</td>\n",
       "    </tr>\n",
       "    <tr>\n",
       "      <td>1</td>\n",
       "      <td>NaN</td>\n",
       "      <td>NaN</td>\n",
       "      <td>NaN</td>\n",
       "      <td>NaN</td>\n",
       "    </tr>\n",
       "    <tr>\n",
       "      <td>2</td>\n",
       "      <td>NaN</td>\n",
       "      <td>Column Labels</td>\n",
       "      <td>NaN</td>\n",
       "      <td>NaN</td>\n",
       "    </tr>\n",
       "    <tr>\n",
       "      <td>3</td>\n",
       "      <td>Values</td>\n",
       "      <td>Total Plan</td>\n",
       "      <td>TV Programs</td>\n",
       "      <td>Digital</td>\n",
       "    </tr>\n",
       "    <tr>\n",
       "      <td>4</td>\n",
       "      <td>Sum of Original Plan</td>\n",
       "      <td>4.60682e+07</td>\n",
       "      <td>4.05366e+07</td>\n",
       "      <td>5.53161e+06</td>\n",
       "    </tr>\n",
       "    <tr>\n",
       "      <td>5</td>\n",
       "      <td>Sum of Plan 1</td>\n",
       "      <td>4.60682e+07</td>\n",
       "      <td>3.37866e+07</td>\n",
       "      <td>1.22816e+07</td>\n",
       "    </tr>\n",
       "    <tr>\n",
       "      <td>6</td>\n",
       "      <td>Sum of Plan 2</td>\n",
       "      <td>4.60682e+07</td>\n",
       "      <td>2.70366e+07</td>\n",
       "      <td>1.90316e+07</td>\n",
       "    </tr>\n",
       "    <tr>\n",
       "      <td>7</td>\n",
       "      <td>Sum of Plan 3</td>\n",
       "      <td>4.60682e+07</td>\n",
       "      <td>2.02866e+07</td>\n",
       "      <td>2.57816e+07</td>\n",
       "    </tr>\n",
       "    <tr>\n",
       "      <td>8</td>\n",
       "      <td>NaN</td>\n",
       "      <td>NaN</td>\n",
       "      <td>NaN</td>\n",
       "      <td>NaN</td>\n",
       "    </tr>\n",
       "    <tr>\n",
       "      <td>9</td>\n",
       "      <td>NaN</td>\n",
       "      <td>NaN</td>\n",
       "      <td>NaN</td>\n",
       "      <td>NaN</td>\n",
       "    </tr>\n",
       "    <tr>\n",
       "      <td>10</td>\n",
       "      <td>NaN</td>\n",
       "      <td>NaN</td>\n",
       "      <td>YouTube % of Budget</td>\n",
       "      <td>Shift % of Total Budget</td>\n",
       "    </tr>\n",
       "    <tr>\n",
       "      <td>11</td>\n",
       "      <td>NaN</td>\n",
       "      <td>Original Plan</td>\n",
       "      <td>0.120074</td>\n",
       "      <td>-</td>\n",
       "    </tr>\n",
       "    <tr>\n",
       "      <td>12</td>\n",
       "      <td>NaN</td>\n",
       "      <td>Plan 1</td>\n",
       "      <td>0.266596</td>\n",
       "      <td>0.146522</td>\n",
       "    </tr>\n",
       "    <tr>\n",
       "      <td>13</td>\n",
       "      <td>NaN</td>\n",
       "      <td>Plan 2</td>\n",
       "      <td>0.413118</td>\n",
       "      <td>0.293044</td>\n",
       "    </tr>\n",
       "    <tr>\n",
       "      <td>14</td>\n",
       "      <td>NaN</td>\n",
       "      <td>Plan 3</td>\n",
       "      <td>0.55964</td>\n",
       "      <td>0.439565</td>\n",
       "    </tr>\n",
       "  </tbody>\n",
       "</table>\n",
       "</div>"
      ],
      "text/plain": [
       "              Unnamed: 0     Unnamed: 1           Unnamed: 2  \\\n",
       "0                 Metric         Budget                  NaN   \n",
       "1                    NaN            NaN                  NaN   \n",
       "2                    NaN  Column Labels                  NaN   \n",
       "3                 Values     Total Plan          TV Programs   \n",
       "4   Sum of Original Plan    4.60682e+07          4.05366e+07   \n",
       "5          Sum of Plan 1    4.60682e+07          3.37866e+07   \n",
       "6          Sum of Plan 2    4.60682e+07          2.70366e+07   \n",
       "7          Sum of Plan 3    4.60682e+07          2.02866e+07   \n",
       "8                    NaN            NaN                  NaN   \n",
       "9                    NaN            NaN                  NaN   \n",
       "10                   NaN            NaN  YouTube % of Budget   \n",
       "11                   NaN  Original Plan             0.120074   \n",
       "12                   NaN         Plan 1             0.266596   \n",
       "13                   NaN         Plan 2             0.413118   \n",
       "14                   NaN         Plan 3              0.55964   \n",
       "\n",
       "                 Unnamed: 3  \n",
       "0                       NaN  \n",
       "1                       NaN  \n",
       "2                       NaN  \n",
       "3                   Digital  \n",
       "4               5.53161e+06  \n",
       "5               1.22816e+07  \n",
       "6               1.90316e+07  \n",
       "7               2.57816e+07  \n",
       "8                       NaN  \n",
       "9                       NaN  \n",
       "10  Shift % of Total Budget  \n",
       "11                        -  \n",
       "12                 0.146522  \n",
       "13                 0.293044  \n",
       "14                 0.439565  "
      ]
     },
     "execution_count": 18,
     "metadata": {},
     "output_type": "execute_result"
    }
   ],
   "source": [
    "budget_allocation"
   ]
  },
  {
   "cell_type": "code",
   "execution_count": 19,
   "metadata": {},
   "outputs": [],
   "source": [
    "# YT % of total budget\n",
    "scenarioone_yt_budget=str(round(budget_allocation.iat[12,2]*100))+'%'\n",
    "scenariotwo_yt_budget=str(round(budget_allocation.iat[13,2]*100))+'%'\n",
    "scenariothree_yt_budget=str(round(budget_allocation.iat[14,2]*100))+'%'"
   ]
  },
  {
   "cell_type": "code",
   "execution_count": 20,
   "metadata": {},
   "outputs": [],
   "source": [
    "#exec summary \n",
    "exec_summary_callout_one=str(int(round(exec_summary.iat[0,2]*100)))+'%'\n",
    "exec_summary_callout_three=str(int(round(exec_summary.iat[4,2]*-100)))+'%'"
   ]
  },
  {
   "cell_type": "code",
   "execution_count": 21,
   "metadata": {},
   "outputs": [],
   "source": [
    "exec_summary_callout_two= int(round(exec_summary.iloc[2,2]*100))\n",
    "\n",
    "if exec_summary_callout_two>0:\n",
    "    exec_summary_callout_two =str(exec_summary_callout_two)+'% increase'\n",
    "else:\n",
    "     exec_summary_callout_two=str(exec_summary_callout_two*-1) +'% decrease'"
   ]
  },
  {
   "cell_type": "code",
   "execution_count": 22,
   "metadata": {},
   "outputs": [
    {
     "data": {
      "text/plain": [
       "'$20.3M'"
      ]
     },
     "execution_count": 22,
     "metadata": {},
     "output_type": "execute_result"
    }
   ],
   "source": [
    "#full reach\n",
    "\n",
    "full_reach_callout_clean=full_reach.sort_values(by=['Reach %'], ascending=False)\n",
    "full_reach_callout_clean=full_reach_callout_clean.reset_index(drop=True)\n",
    "\n",
    "full_reach_callout='$'+str(round(full_reach_callout_clean.iat[0,2],1))+'M'\n",
    "\n",
    "full_reach_callout"
   ]
  },
  {
   "cell_type": "code",
   "execution_count": 23,
   "metadata": {},
   "outputs": [],
   "source": [
    "#scenarios\n",
    "\n",
    "scenarios_total='$'+ str(round(scenarios.iat[10,2]/1000000,1))+'M'\n",
    "original_tv= '$'+ str(round(scenarios.iat[11,2]/1000000,1))+'M'\n",
    "original_yt= '$'+ str(round(scenarios.iat[12,2]/1000000,1))+'M'\n",
    "\n",
    "scenario_one_tv='$'+ str(round(scenarios.iat[11,3]/1000000,1))+'M'\n",
    "scenario_one_yt='$'+ str(round(scenarios.iat[12,3]/1000000,1))+'M'\n",
    "\n",
    "scenario_two_tv='$'+ str(round(scenarios.iat[11,4]/1000000,1))+'M'\n",
    "scenario_two_yt='$'+ str(round(scenarios.iat[12,4]/1000000,1))+'M'\n",
    "\n",
    "scenario_three_tv='$'+ str(round(scenarios.iat[11,5]/1000000,1))+'M'\n",
    "scenario_three_yt='$'+ str(round(scenarios.iat[12,5]/1000000,1))+'M'"
   ]
  },
  {
   "cell_type": "code",
   "execution_count": 24,
   "metadata": {},
   "outputs": [],
   "source": [
    "summary_scenario_max_shift='$'+str(round(summary_table_data.iat[3,1]/1000000-summary_table_data.iat[3,4]/1000000,1))+'M'"
   ]
  },
  {
   "cell_type": "code",
   "execution_count": 25,
   "metadata": {},
   "outputs": [],
   "source": [
    "#reachdata\n",
    "reach_data_callout=str(round(reach_data.iat[3,4]*100,1))+'%'"
   ]
  },
  {
   "cell_type": "code",
   "execution_count": 26,
   "metadata": {},
   "outputs": [],
   "source": [
    "#frequency\n",
    "frequency_callout_increaseordecrease= frequency.iloc[3,5]\n",
    "\n",
    "if frequency_callout_increaseordecrease>0:\n",
    "    frequency_callout_increaseordecrease= 'increase'\n",
    "else:\n",
    "    frequency_callout_increaseordecrease= 'decrease'\n",
    "frequency_callout_increaseordecrease\n",
    "\n",
    "\n",
    "frequency_callout= frequency.iloc[3,5]\n",
    "\n",
    "if frequency_callout<0:\n",
    "    frequency_callout=str(round(frequency_callout*-100,1))+'%'\n",
    "else:\n",
    "     frequency_callout=str(round(frequency_callout*100,1))+'%'"
   ]
  },
  {
   "cell_type": "code",
   "execution_count": 27,
   "metadata": {},
   "outputs": [],
   "source": [
    "#cost per reach\n",
    "cost_per_reach_callout=str(round(cost_per_reach.iat[3,7]*-100,1))+'%'"
   ]
  },
  {
   "cell_type": "code",
   "execution_count": 28,
   "metadata": {},
   "outputs": [],
   "source": [
    "summary_scenario_one_shift= 'Scenario #1                       ' +'$'+str(round(summary_table_data.iat[3,1]/1000000-summary_table_data.iat[3,2]/1000000,1))+'M Shifted to YT'\n",
    "summary_scenario_two_shift= 'Scenario #2                       ' +'$'+str(round(summary_table_data.iat[3,1]/1000000-summary_table_data.iat[3,3]/1000000,1))+'M Shifted to YT'\n",
    "summary_scenario_three_shift='Scenario #3                       ' + '$'+str(round(summary_table_data.iat[3,1]/1000000-summary_table_data.iat[3,4]/1000000,1))+'M Shifted to YT'\n"
   ]
  },
  {
   "cell_type": "markdown",
   "metadata": {},
   "source": [
    "# Slide 1: Title "
   ]
  },
  {
   "cell_type": "code",
   "execution_count": 29,
   "metadata": {},
   "outputs": [],
   "source": [
    "title_slide = prs.slides[0]\n",
    "subtitle1 = title_slide.placeholders[1]\n",
    "subtitle1.text = campaign_name\n",
    "\n",
    "date_footer = title_slide.placeholders[17]\n",
    "date_footer.text = \"Prepared for Google\" + current_month"
   ]
  },
  {
   "cell_type": "markdown",
   "metadata": {},
   "source": [
    "# Slide 4: Full Reach"
   ]
  },
  {
   "cell_type": "code",
   "execution_count": 30,
   "metadata": {},
   "outputs": [
    {
     "data": {
      "text/html": [
       "<div>\n",
       "<style scoped>\n",
       "    .dataframe tbody tr th:only-of-type {\n",
       "        vertical-align: middle;\n",
       "    }\n",
       "\n",
       "    .dataframe tbody tr th {\n",
       "        vertical-align: top;\n",
       "    }\n",
       "\n",
       "    .dataframe thead th {\n",
       "        text-align: right;\n",
       "    }\n",
       "</style>\n",
       "<table border=\"1\" class=\"dataframe\">\n",
       "  <thead>\n",
       "    <tr style=\"text-align: right;\">\n",
       "      <th></th>\n",
       "      <th>Unnamed: 0</th>\n",
       "      <th>Dollars</th>\n",
       "      <th>Dollars (MM)</th>\n",
       "      <th>Reach %</th>\n",
       "    </tr>\n",
       "  </thead>\n",
       "  <tbody>\n",
       "    <tr>\n",
       "      <td>0</td>\n",
       "      <td>Original Plan</td>\n",
       "      <td>Original Plan</td>\n",
       "      <td>Original Plan</td>\n",
       "      <td>0.7909</td>\n",
       "    </tr>\n",
       "    <tr>\n",
       "      <td>1</td>\n",
       "      <td>Shift 1</td>\n",
       "      <td>4,053,663</td>\n",
       "      <td>4.05366</td>\n",
       "      <td>0.8323</td>\n",
       "    </tr>\n",
       "    <tr>\n",
       "      <td>2</td>\n",
       "      <td>Shift 2</td>\n",
       "      <td>8,107,326</td>\n",
       "      <td>8.10733</td>\n",
       "      <td>0.8442</td>\n",
       "    </tr>\n",
       "    <tr>\n",
       "      <td>3</td>\n",
       "      <td>Shift 3</td>\n",
       "      <td>12,160,989</td>\n",
       "      <td>12.161</td>\n",
       "      <td>0.8508</td>\n",
       "    </tr>\n",
       "    <tr>\n",
       "      <td>4</td>\n",
       "      <td>Shift 4</td>\n",
       "      <td>16,214,652</td>\n",
       "      <td>16.2147</td>\n",
       "      <td>0.8545</td>\n",
       "    </tr>\n",
       "    <tr>\n",
       "      <td>5</td>\n",
       "      <td>Shift 5</td>\n",
       "      <td>20,268,316</td>\n",
       "      <td>20.2683</td>\n",
       "      <td>0.8562</td>\n",
       "    </tr>\n",
       "    <tr>\n",
       "      <td>6</td>\n",
       "      <td>Shift 6</td>\n",
       "      <td>24,321,979</td>\n",
       "      <td>24.322</td>\n",
       "      <td>0.8559</td>\n",
       "    </tr>\n",
       "    <tr>\n",
       "      <td>7</td>\n",
       "      <td>Shift 7</td>\n",
       "      <td>28,375,642</td>\n",
       "      <td>28.3756</td>\n",
       "      <td>0.8536</td>\n",
       "    </tr>\n",
       "    <tr>\n",
       "      <td>8</td>\n",
       "      <td>Shift 8</td>\n",
       "      <td>32,429,305</td>\n",
       "      <td>32.4293</td>\n",
       "      <td>0.8482</td>\n",
       "    </tr>\n",
       "    <tr>\n",
       "      <td>9</td>\n",
       "      <td>Shift 9</td>\n",
       "      <td>36,482,968</td>\n",
       "      <td>36.483</td>\n",
       "      <td>0.8355</td>\n",
       "    </tr>\n",
       "    <tr>\n",
       "      <td>10</td>\n",
       "      <td>Shift 10</td>\n",
       "      <td>40536631</td>\n",
       "      <td>40.5366</td>\n",
       "      <td>0.7592</td>\n",
       "    </tr>\n",
       "  </tbody>\n",
       "</table>\n",
       "</div>"
      ],
      "text/plain": [
       "       Unnamed: 0        Dollars   Dollars (MM)  Reach %\n",
       "0   Original Plan  Original Plan  Original Plan   0.7909\n",
       "1         Shift 1      4,053,663        4.05366   0.8323\n",
       "2         Shift 2      8,107,326        8.10733   0.8442\n",
       "3         Shift 3     12,160,989         12.161   0.8508\n",
       "4         Shift 4     16,214,652        16.2147   0.8545\n",
       "5         Shift 5     20,268,316        20.2683   0.8562\n",
       "6         Shift 6     24,321,979         24.322   0.8559\n",
       "7         Shift 7     28,375,642        28.3756   0.8536\n",
       "8         Shift 8     32,429,305        32.4293   0.8482\n",
       "9         Shift 9     36,482,968         36.483   0.8355\n",
       "10       Shift 10       40536631        40.5366   0.7592"
      ]
     },
     "execution_count": 30,
     "metadata": {},
     "output_type": "execute_result"
    }
   ],
   "source": [
    "full_reach"
   ]
  },
  {
   "cell_type": "code",
   "execution_count": 31,
   "metadata": {},
   "outputs": [],
   "source": [
    "fullreachslide=prs.slides[3]\n",
    "fullreachchart=fullreachslide.shapes[3].chart\n"
   ]
  },
  {
   "cell_type": "code",
   "execution_count": 32,
   "metadata": {},
   "outputs": [],
   "source": [
    "fullreach_list=[]\n",
    "fullreach_list= full_reach['Reach %'].to_list()"
   ]
  },
  {
   "cell_type": "code",
   "execution_count": 33,
   "metadata": {},
   "outputs": [],
   "source": [
    "fullreachcategories_list=[]\n",
    "fullreachcategories_list= full_reach['Dollars (MM)'].to_list()"
   ]
  },
  {
   "cell_type": "code",
   "execution_count": 34,
   "metadata": {},
   "outputs": [],
   "source": [
    "for number in range(1,11): \n",
    "    fullreachcategories_list[number]=str(round(fullreachcategories_list[number],1))+'M'"
   ]
  },
  {
   "cell_type": "code",
   "execution_count": 35,
   "metadata": {
    "scrolled": true
   },
   "outputs": [],
   "source": [
    "fullreachchartdata=ChartData()\n",
    "fullreachchartdata.categories=fullreachcategories_list\n",
    "fullreachchartdata.add_series(\"Reach\", (fullreach_list))\n",
    "fullreachchart.replace_data(fullreachchartdata)"
   ]
  },
  {
   "cell_type": "code",
   "execution_count": 36,
   "metadata": {},
   "outputs": [
    {
     "data": {
      "text/plain": [
       "<pptx.chart.data.ChartData at 0x29be95b3088>"
      ]
     },
     "execution_count": 36,
     "metadata": {},
     "output_type": "execute_result"
    }
   ],
   "source": [
    "fullreachchartdata"
   ]
  },
  {
   "cell_type": "code",
   "execution_count": 37,
   "metadata": {},
   "outputs": [
    {
     "data": {
      "text/plain": [
       "<pptx.shapes.placeholder.SlidePlaceholder at 0x29be95b2208>"
      ]
     },
     "execution_count": 37,
     "metadata": {},
     "output_type": "execute_result"
    }
   ],
   "source": [
    "create_footnote(fullreachslide)"
   ]
  },
  {
   "cell_type": "markdown",
   "metadata": {},
   "source": [
    "# Slide 5: Reach "
   ]
  },
  {
   "cell_type": "code",
   "execution_count": 38,
   "metadata": {},
   "outputs": [],
   "source": [
    "#selects the slide number (starts counting from 0)\n",
    "reachslide=prs.slides[4]\n",
    "#gets the shape number index start backwards on selection pane (chart tools-->format-->selection pane)\n",
    "reachchart=reachslide.shapes[3].chart\n",
    "\n",
    "#create list and fill list with Unnamed column in the reach chart\n",
    "reach_list=[]\n",
    "reach_list= reach_data['Unnamed: 1'].to_list()\n",
    "\n",
    "\n",
    "\n",
    "#empty chart variable\n",
    "reachchartdata=ChartData()\n",
    "reachchartdata.categories=[\"Original Plan\", \"Scenario 1\", \"Scenario 2\", \"Scenario 3\"]\n",
    "reachchartdata.add_series('Reach %', (reach_list))\n",
    "\n",
    "\n",
    "\n",
    "reachchart.replace_data(reachchartdata)"
   ]
  },
  {
   "cell_type": "code",
   "execution_count": 39,
   "metadata": {},
   "outputs": [
    {
     "data": {
      "text/html": [
       "<div>\n",
       "<style scoped>\n",
       "    .dataframe tbody tr th:only-of-type {\n",
       "        vertical-align: middle;\n",
       "    }\n",
       "\n",
       "    .dataframe tbody tr th {\n",
       "        vertical-align: top;\n",
       "    }\n",
       "\n",
       "    .dataframe thead th {\n",
       "        text-align: right;\n",
       "    }\n",
       "</style>\n",
       "<table border=\"1\" class=\"dataframe\">\n",
       "  <thead>\n",
       "    <tr style=\"text-align: right;\">\n",
       "      <th></th>\n",
       "      <th>Values</th>\n",
       "      <th>Unnamed: 1</th>\n",
       "      <th>Unnamed: 2</th>\n",
       "      <th>Unnamed: 3</th>\n",
       "      <th>Unnamed: 4</th>\n",
       "    </tr>\n",
       "  </thead>\n",
       "  <tbody>\n",
       "    <tr>\n",
       "      <td>0</td>\n",
       "      <td>Sum of Original Plan</td>\n",
       "      <td>0.7909</td>\n",
       "      <td>NaN</td>\n",
       "      <td>NaN</td>\n",
       "      <td>NaN</td>\n",
       "    </tr>\n",
       "    <tr>\n",
       "      <td>1</td>\n",
       "      <td>Sum of Plan 1</td>\n",
       "      <td>0.8410</td>\n",
       "      <td>NaN</td>\n",
       "      <td>NaN</td>\n",
       "      <td>NaN</td>\n",
       "    </tr>\n",
       "    <tr>\n",
       "      <td>2</td>\n",
       "      <td>Sum of Plan 2</td>\n",
       "      <td>0.8523</td>\n",
       "      <td>NaN</td>\n",
       "      <td>NaN</td>\n",
       "      <td>NaN</td>\n",
       "    </tr>\n",
       "    <tr>\n",
       "      <td>3</td>\n",
       "      <td>Sum of Plan 3</td>\n",
       "      <td>0.8562</td>\n",
       "      <td>NaN</td>\n",
       "      <td>% Increase in Reach</td>\n",
       "      <td>0.082564</td>\n",
       "    </tr>\n",
       "  </tbody>\n",
       "</table>\n",
       "</div>"
      ],
      "text/plain": [
       "                 Values  Unnamed: 1  Unnamed: 2           Unnamed: 3  \\\n",
       "0  Sum of Original Plan      0.7909         NaN                  NaN   \n",
       "1         Sum of Plan 1      0.8410         NaN                  NaN   \n",
       "2         Sum of Plan 2      0.8523         NaN                  NaN   \n",
       "3         Sum of Plan 3      0.8562         NaN  % Increase in Reach   \n",
       "\n",
       "   Unnamed: 4  \n",
       "0         NaN  \n",
       "1         NaN  \n",
       "2         NaN  \n",
       "3    0.082564  "
      ]
     },
     "execution_count": 39,
     "metadata": {},
     "output_type": "execute_result"
    }
   ],
   "source": [
    "reach_data"
   ]
  },
  {
   "cell_type": "code",
   "execution_count": 40,
   "metadata": {},
   "outputs": [
    {
     "data": {
      "text/plain": [
       "<pptx.chart.data.Categories at 0x29be95bd7c8>"
      ]
     },
     "execution_count": 40,
     "metadata": {},
     "output_type": "execute_result"
    }
   ],
   "source": [
    "reachchartdata.categories"
   ]
  },
  {
   "cell_type": "code",
   "execution_count": 41,
   "metadata": {},
   "outputs": [
    {
     "data": {
      "text/plain": [
       "<pptx.shapes.placeholder.SlidePlaceholder at 0x29be95ced88>"
      ]
     },
     "execution_count": 41,
     "metadata": {},
     "output_type": "execute_result"
    }
   ],
   "source": [
    "create_footnote(reachslide)"
   ]
  },
  {
   "cell_type": "markdown",
   "metadata": {},
   "source": [
    "# Slide 6: Frequency "
   ]
  },
  {
   "cell_type": "code",
   "execution_count": 42,
   "metadata": {},
   "outputs": [],
   "source": [
    "frequencyslide=prs.slides[5]\n",
    "frequencychart=frequencyslide.shapes[4].chart\n",
    "\n",
    "\n",
    "frequency_list=[]\n",
    "frequency_list= frequency['Unnamed: 1'].to_list()\n",
    "\n",
    "\n",
    "frequencychartdata=ChartData()\n",
    "frequencychartdata.categories=[\"Original Plan\", \"Scenario 1\", \"Scenario 2\", \"Scenario 3\"]\n",
    "frequencychartdata.add_series(\"Frequency\", (frequency_list))\n",
    "frequencychart.replace_data(frequencychartdata)"
   ]
  },
  {
   "cell_type": "code",
   "execution_count": 43,
   "metadata": {},
   "outputs": [
    {
     "data": {
      "text/plain": [
       "<pptx.shapes.placeholder.SlidePlaceholder at 0x29be94f4848>"
      ]
     },
     "execution_count": 43,
     "metadata": {},
     "output_type": "execute_result"
    }
   ],
   "source": [
    "create_footnote(frequencyslide)"
   ]
  },
  {
   "cell_type": "markdown",
   "metadata": {},
   "source": [
    "# Slide 7: CPP"
   ]
  },
  {
   "cell_type": "code",
   "execution_count": 44,
   "metadata": {},
   "outputs": [],
   "source": [
    "cppslide=prs.slides[6]\n",
    "cppchart=cppslide.shapes[0].chart\n",
    "\n",
    "\n",
    "cpp_list=[]\n",
    "cpp_list= cost_per_reach['Cost per Reach'].to_list()\n"
   ]
  },
  {
   "cell_type": "code",
   "execution_count": 45,
   "metadata": {},
   "outputs": [
    {
     "data": {
      "text/plain": [
       "[582.478726775825, 547.7793400796671, 540.5167488055848, 538.0546893330996]"
      ]
     },
     "execution_count": 45,
     "metadata": {},
     "output_type": "execute_result"
    }
   ],
   "source": [
    "cpp_list"
   ]
  },
  {
   "cell_type": "code",
   "execution_count": 46,
   "metadata": {},
   "outputs": [],
   "source": [
    "cppchartdata=ChartData()\n",
    "cppchartdata.categories=[\"Original Plan\", \"Scenario 1\", \"Scenario 2\", \"Scenario 3\"]\n",
    "cppchartdata.add_series(\"CPP\", (cpp_list))\n",
    "cppchart.replace_data(cppchartdata)"
   ]
  },
  {
   "cell_type": "code",
   "execution_count": 47,
   "metadata": {},
   "outputs": [
    {
     "data": {
      "text/plain": [
       "<pptx.shapes.placeholder.SlidePlaceholder at 0x29be94f2b88>"
      ]
     },
     "execution_count": 47,
     "metadata": {},
     "output_type": "execute_result"
    }
   ],
   "source": [
    "create_footnote(cppslide)"
   ]
  },
  {
   "cell_type": "markdown",
   "metadata": {},
   "source": [
    "# Slide 8: Cross-Platform"
   ]
  },
  {
   "cell_type": "code",
   "execution_count": 48,
   "metadata": {},
   "outputs": [],
   "source": [
    "crossplatformslide= prs.slides[7]\n",
    "crossplatformchart= crossplatformslide.shapes[4].chart\n",
    "\n",
    "\n",
    "crossplatformtvonly_list=[]\n",
    "crossplatformyoutubeonly_list=[]\n",
    "crossplatformboth_list=[]\n",
    "\n",
    "crossplatformtvonly_list= cross_platform['Unnamed: 5'].to_list()\n",
    "crossplatformyoutubeonly_list= cross_platform['Unnamed: 6'].to_list()\n",
    "crossplatformboth_list= cross_platform['Unnamed: 7'].to_list()"
   ]
  },
  {
   "cell_type": "code",
   "execution_count": 49,
   "metadata": {},
   "outputs": [],
   "source": [
    "crossplatformchartdata=ChartData()\n",
    "\n",
    "crossplatformchartdata.categories=[\"Original Plan\", \"Scenario 1\", \"Scenario 2\", \"Scenario 3\"]\n",
    "crossplatformchartdata.add_series('TV Only', (crossplatformtvonly_list))\n",
    "crossplatformchartdata.add_series('TV and Youtube Overlap', (crossplatformboth_list))\n",
    "crossplatformchartdata.add_series('Youtube Only', (crossplatformyoutubeonly_list))\n",
    "\n",
    "crossplatformchart.replace_data(crossplatformchartdata)"
   ]
  },
  {
   "cell_type": "code",
   "execution_count": 50,
   "metadata": {},
   "outputs": [
    {
     "data": {
      "text/plain": [
       "<pptx.shapes.placeholder.SlidePlaceholder at 0x29be950e588>"
      ]
     },
     "execution_count": 50,
     "metadata": {},
     "output_type": "execute_result"
    }
   ],
   "source": [
    "create_footnote(crossplatformslide)"
   ]
  },
  {
   "cell_type": "markdown",
   "metadata": {},
   "source": [
    "# Slide 9: CE by Scenarios"
   ]
  },
  {
   "cell_type": "code",
   "execution_count": 51,
   "metadata": {},
   "outputs": [],
   "source": [
    "costefficiencyslide= prs.slides[8]\n",
    "costefficiencychart= costefficiencyslide.shapes[4].chart\n",
    "\n",
    "\n",
    "costefficiencytotal_list=[]\n",
    "costefficiencytv_list=[]\n",
    "costefficiencyyoutube_list=[]\n",
    "\n",
    "costefficiencytotal_list= cost_per_reach_thousands['Unnamed: 5'].to_list()\n",
    "costefficiencytv_list= cost_per_reach_thousands['Unnamed: 6'].to_list()\n",
    "costefficiencyyoutube_list= cost_per_reach_thousands['Unnamed: 7'].to_list()\n"
   ]
  },
  {
   "cell_type": "code",
   "execution_count": 52,
   "metadata": {},
   "outputs": [],
   "source": [
    "costefficiencychartdata=ChartData()\n",
    "costefficiencychartdata.categories=[\"Original Plan\", \"Scenario 1\", \"Scenario 2\", \"Scenario 3\"]\n",
    "costefficiencychartdata.add_series('Total Campaign', (costefficiencytotal_list))\n",
    "costefficiencychartdata.add_series('Total TV',    (costefficiencytv_list))\n",
    "costefficiencychartdata.add_series('Total Youtube', (costefficiencyyoutube_list))\n",
    "\n",
    "costefficiencychart.replace_data(costefficiencychartdata)"
   ]
  },
  {
   "cell_type": "code",
   "execution_count": 53,
   "metadata": {},
   "outputs": [
    {
     "data": {
      "text/plain": [
       "<pptx.shapes.placeholder.SlidePlaceholder at 0x29be94e3708>"
      ]
     },
     "execution_count": 53,
     "metadata": {},
     "output_type": "execute_result"
    }
   ],
   "source": [
    "create_footnote(costefficiencyslide)"
   ]
  },
  {
   "cell_type": "markdown",
   "metadata": {},
   "source": [
    "# Slide 10: Summary Slide"
   ]
  },
  {
   "cell_type": "code",
   "execution_count": 54,
   "metadata": {},
   "outputs": [],
   "source": [
    "summaryslide= prs.slides[9]"
   ]
  },
  {
   "cell_type": "code",
   "execution_count": 55,
   "metadata": {},
   "outputs": [],
   "source": [
    "summarytable = summaryslide.shapes[8].table\n",
    "\n",
    "for col in range(1, len(summarytable.columns)):\n",
    "    for row in range(0, len(summarytable.rows)):\n",
    "        if row in [1,7,16]:\n",
    "            summarytable.cell(row, col).text_frame.text = '$'+str(round((summary_table_clean.iloc[row-1, col]/1000000),1))+'M'\n",
    "            summarytable.cell(row, col).text_frame.paragraphs[0].font.size = Pt(8)\n",
    "            summarytable.cell(row,col).text_frame.paragraphs[0].alignment = PP_ALIGN.CENTER\n",
    "        elif row in [5,14,23]:\n",
    "            summarytable.cell(row, col).text_frame.text = '$'+str(round((summary_table_clean.iloc[row-1, col]),2)) \n",
    "            summarytable.cell(row, col).text_frame.paragraphs[0].font.size = Pt(8)\n",
    "            summarytable.cell(row,col).text_frame.paragraphs[0].alignment = PP_ALIGN.CENTER\n",
    "        elif row in [2,9,18]:\n",
    "            summarytable.cell(row, col).text_frame.text = str(round((summary_table_clean.iloc[row-1, col])))\n",
    "            summarytable.cell(row, col).text_frame.paragraphs[0].font.size = Pt(8)\n",
    "            summarytable.cell(row,col).text_frame.paragraphs[0].alignment = PP_ALIGN.CENTER\n",
    "        elif row in [4,13,22]:\n",
    "            summarytable.cell(row, col).text_frame.text = str(round((summary_table_clean.iloc[row-1, col]),1))\n",
    "            summarytable.cell(row, col).text_frame.paragraphs[0].font.size = Pt(8)\n",
    "            summarytable.cell(row,col).text_frame.paragraphs[0].alignment = PP_ALIGN.CENTER\n",
    "        elif row in [8,17]:\n",
    "            summarytable.cell(row, col).text_frame.text = str(round((summary_table_clean.iloc[row-1, col])*100,1))+'%'\n",
    "            summarytable.cell(row, col).text_frame.paragraphs[0].font.size = Pt(8)\n",
    "            summarytable.cell(row,col).text_frame.paragraphs[0].alignment = PP_ALIGN.CENTER\n",
    "        elif row in [3,10,11,12,19,20,21]:\n",
    "            summarytable.cell(row, col).text_frame.text = str(round((summary_table_clean.iloc[row-1, col]),1))+'%'\n",
    "            summarytable.cell(row, col).text_frame.paragraphs[0].font.size = Pt(8)\n",
    "            summarytable.cell(row,col).text_frame.paragraphs[0].alignment = PP_ALIGN.CENTER\n",
    "        elif row in[0]:\n",
    "            replace_text('10a', summary_scenario_one_shift)\n",
    "            replace_text('10b', summary_scenario_two_shift)\n",
    "            replace_text('10c', summary_scenario_three_shift)\n",
    "            summarytable.cell(row, col).text_frame.paragraphs[0].font.size = Pt(8)\n",
    "            summarytable.cell(row,col).text_frame.paragraphs[0].alignment = PP_ALIGN.CENTER\n",
    "            \n",
    "\n",
    "\n"
   ]
  },
  {
   "cell_type": "code",
   "execution_count": 56,
   "metadata": {
    "scrolled": false
   },
   "outputs": [
    {
     "data": {
      "text/plain": [
       "<pptx.shapes.placeholder.SlidePlaceholder at 0x29be954f7c8>"
      ]
     },
     "execution_count": 56,
     "metadata": {},
     "output_type": "execute_result"
    }
   ],
   "source": [
    "create_footnote(summaryslide)"
   ]
  },
  {
   "cell_type": "code",
   "execution_count": 57,
   "metadata": {},
   "outputs": [
    {
     "data": {
      "text/plain": [
       "'provided by Google'"
      ]
     },
     "execution_count": 57,
     "metadata": {},
     "output_type": "execute_result"
    }
   ],
   "source": [
    "data_source"
   ]
  },
  {
   "cell_type": "markdown",
   "metadata": {},
   "source": [
    "# Search and Replace"
   ]
  },
  {
   "cell_type": "code",
   "execution_count": 58,
   "metadata": {},
   "outputs": [],
   "source": [
    "replace_text('FUSION PERIOD', fusion_period)\n",
    "replace_text('DATE',current_month)\n",
    "replace_text('MM/DD/YYYY - MM/DD/YYYY', campaign_dates)\n",
    "replace_text('FC',frequency_cap)\n",
    "replace_text('Campaign XYZ',campaign_name)\n",
    "replace_text('Target Demo',target_demo)\n",
    "replace_text('target demo',target_demo)\n",
    "replace_text('TARGET DEMO',target_demo.upper())\n",
    "replace_text('2a', original_total_budget)\n",
    "replace_text('2b', scenarioone_total_budget)\n",
    "replace_text('2d', scenariotwo_total_budget)\n",
    "replace_text('2f', scenariothree_total_budget)\n",
    "replace_text('2c', scenarioone_yt_budget)\n",
    "replace_text('2e', scenariotwo_yt_budget)\n",
    "replace_text('2g', scenariothree_yt_budget)\n",
    "replace_text('ADVERTISER', advertiser)\n",
    "replace_text('3a',exec_summary_callout_one)\n",
    "replace_text('3b', exec_summary_callout_two)\n",
    "replace_text('3c',exec_summary_callout_three)\n",
    "replace_text('4a',full_reach_callout)\n",
    "replace_text('5a',summary_scenario_max_shift)\n",
    "replace_text('5b', reach_data_callout)\n",
    "replace_text('5c', scenarios_total)\n",
    "replace_text('5d', original_tv)\n",
    "replace_text('5e', original_yt)\n",
    "replace_text('5f', scenario_one_tv)\n",
    "replace_text('5g', scenario_one_yt)\n",
    "replace_text('5h', scenario_two_tv)\n",
    "replace_text('5i', scenario_two_yt)\n",
    "replace_text('5j', scenario_three_tv)\n",
    "replace_text('5k', scenario_three_yt)\n",
    "replace_text('6a', frequency_callout_increaseordecrease)\n",
    "replace_text('6b', frequency_callout)\n",
    "replace_text('7a', cost_per_reach_callout)\n",
    "replace_text('TVDATASOURCE',data_source)\n",
    "replace_text('PREPAREDFOR',prepared_for)\n",
    "\n"
   ]
  },
  {
   "cell_type": "code",
   "execution_count": 59,
   "metadata": {},
   "outputs": [],
   "source": [
    "prs.save(f\"/Users/resissma2001/Desktop/Google Share Shift-{campaign_name}.pptx\")"
   ]
  },
  {
   "cell_type": "code",
   "execution_count": null,
   "metadata": {},
   "outputs": [],
   "source": []
  }
 ],
 "metadata": {
  "kernelspec": {
   "display_name": "Python 3",
   "language": "python",
   "name": "python3"
  },
  "language_info": {
   "codemirror_mode": {
    "name": "ipython",
    "version": 3
   },
   "file_extension": ".py",
   "mimetype": "text/x-python",
   "name": "python",
   "nbconvert_exporter": "python",
   "pygments_lexer": "ipython3",
   "version": "3.7.4"
  }
 },
 "nbformat": 4,
 "nbformat_minor": 2
}
